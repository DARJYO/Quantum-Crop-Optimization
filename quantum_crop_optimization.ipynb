{
  "nbformat": 4,
  "nbformat_minor": 0,
  "metadata": {
    "colab": {
      "provenance": [],
      "gpuType": "T4",
      "authorship_tag": "ABX9TyPAg9is+Ag82WcBdBE4Y7tj"
    },
    "kernelspec": {
      "name": "python3",
      "display_name": "Python 3"
    },
    "language_info": {
      "name": "python"
    },
    "accelerator": "GPU"
  },
  "cells": [
    {
      "cell_type": "code",
      "execution_count": 9,
      "metadata": {
        "colab": {
          "base_uri": "https://localhost:8080/"
        },
        "id": "f5CjNsVpsJcE",
        "outputId": "78b07170-e26b-4b85-eecc-234bfbf4e83c"
      },
      "outputs": [
        {
          "output_type": "stream",
          "name": "stdout",
          "text": [
            "Requirement already satisfied: qiskit-aer in /usr/local/lib/python3.11/dist-packages (0.16.1)\n",
            "Requirement already satisfied: qiskit-ibm-runtime in /usr/local/lib/python3.11/dist-packages (0.35.0)\n",
            "Requirement already satisfied: qiskit>=1.1.0 in /usr/local/lib/python3.11/dist-packages (from qiskit-aer) (1.3.2)\n",
            "Requirement already satisfied: numpy>=1.16.3 in /usr/local/lib/python3.11/dist-packages (from qiskit-aer) (1.26.4)\n",
            "Requirement already satisfied: scipy>=1.0 in /usr/local/lib/python3.11/dist-packages (from qiskit-aer) (1.13.1)\n",
            "Requirement already satisfied: psutil>=5 in /usr/local/lib/python3.11/dist-packages (from qiskit-aer) (5.9.5)\n",
            "Requirement already satisfied: requests>=2.19 in /usr/local/lib/python3.11/dist-packages (from qiskit-ibm-runtime) (2.32.3)\n",
            "Requirement already satisfied: requests-ntlm>=1.1.0 in /usr/local/lib/python3.11/dist-packages (from qiskit-ibm-runtime) (1.3.0)\n",
            "Requirement already satisfied: urllib3>=1.21.1 in /usr/local/lib/python3.11/dist-packages (from qiskit-ibm-runtime) (2.3.0)\n",
            "Requirement already satisfied: python-dateutil>=2.8.0 in /usr/local/lib/python3.11/dist-packages (from qiskit-ibm-runtime) (2.8.2)\n",
            "Requirement already satisfied: websocket-client>=1.5.1 in /usr/local/lib/python3.11/dist-packages (from qiskit-ibm-runtime) (1.8.0)\n",
            "Requirement already satisfied: ibm-platform-services>=0.22.6 in /usr/local/lib/python3.11/dist-packages (from qiskit-ibm-runtime) (0.59.1)\n",
            "Requirement already satisfied: pydantic<2.10,>=2.5.0 in /usr/local/lib/python3.11/dist-packages (from qiskit-ibm-runtime) (2.9.2)\n",
            "Requirement already satisfied: ibm_cloud_sdk_core<4.0.0,>=3.22.0 in /usr/local/lib/python3.11/dist-packages (from ibm-platform-services>=0.22.6->qiskit-ibm-runtime) (3.22.1)\n",
            "Requirement already satisfied: annotated-types>=0.6.0 in /usr/local/lib/python3.11/dist-packages (from pydantic<2.10,>=2.5.0->qiskit-ibm-runtime) (0.7.0)\n",
            "Requirement already satisfied: pydantic-core==2.23.4 in /usr/local/lib/python3.11/dist-packages (from pydantic<2.10,>=2.5.0->qiskit-ibm-runtime) (2.23.4)\n",
            "Requirement already satisfied: typing-extensions>=4.6.1 in /usr/local/lib/python3.11/dist-packages (from pydantic<2.10,>=2.5.0->qiskit-ibm-runtime) (4.12.2)\n",
            "Requirement already satisfied: six>=1.5 in /usr/local/lib/python3.11/dist-packages (from python-dateutil>=2.8.0->qiskit-ibm-runtime) (1.17.0)\n",
            "Requirement already satisfied: rustworkx>=0.15.0 in /usr/local/lib/python3.11/dist-packages (from qiskit>=1.1.0->qiskit-aer) (0.16.0)\n",
            "Requirement already satisfied: sympy>=1.3 in /usr/local/lib/python3.11/dist-packages (from qiskit>=1.1.0->qiskit-aer) (1.13.1)\n",
            "Requirement already satisfied: dill>=0.3 in /usr/local/lib/python3.11/dist-packages (from qiskit>=1.1.0->qiskit-aer) (0.3.9)\n",
            "Requirement already satisfied: stevedore>=3.0.0 in /usr/local/lib/python3.11/dist-packages (from qiskit>=1.1.0->qiskit-aer) (5.4.0)\n",
            "Requirement already satisfied: symengine<0.14,>=0.11 in /usr/local/lib/python3.11/dist-packages (from qiskit>=1.1.0->qiskit-aer) (0.13.0)\n",
            "Requirement already satisfied: charset-normalizer<4,>=2 in /usr/local/lib/python3.11/dist-packages (from requests>=2.19->qiskit-ibm-runtime) (3.4.1)\n",
            "Requirement already satisfied: idna<4,>=2.5 in /usr/local/lib/python3.11/dist-packages (from requests>=2.19->qiskit-ibm-runtime) (3.10)\n",
            "Requirement already satisfied: certifi>=2017.4.17 in /usr/local/lib/python3.11/dist-packages (from requests>=2.19->qiskit-ibm-runtime) (2025.1.31)\n",
            "Requirement already satisfied: cryptography>=1.3 in /usr/local/lib/python3.11/dist-packages (from requests-ntlm>=1.1.0->qiskit-ibm-runtime) (43.0.3)\n",
            "Requirement already satisfied: pyspnego>=0.4.0 in /usr/local/lib/python3.11/dist-packages (from requests-ntlm>=1.1.0->qiskit-ibm-runtime) (0.11.2)\n",
            "Requirement already satisfied: cffi>=1.12 in /usr/local/lib/python3.11/dist-packages (from cryptography>=1.3->requests-ntlm>=1.1.0->qiskit-ibm-runtime) (1.17.1)\n",
            "Requirement already satisfied: PyJWT<3.0.0,>=2.8.0 in /usr/local/lib/python3.11/dist-packages (from ibm_cloud_sdk_core<4.0.0,>=3.22.0->ibm-platform-services>=0.22.6->qiskit-ibm-runtime) (2.10.1)\n",
            "Requirement already satisfied: pbr>=2.0.0 in /usr/local/lib/python3.11/dist-packages (from stevedore>=3.0.0->qiskit>=1.1.0->qiskit-aer) (6.1.1)\n",
            "Requirement already satisfied: mpmath<1.4,>=1.1.0 in /usr/local/lib/python3.11/dist-packages (from sympy>=1.3->qiskit>=1.1.0->qiskit-aer) (1.3.0)\n",
            "Requirement already satisfied: pycparser in /usr/local/lib/python3.11/dist-packages (from cffi>=1.12->cryptography>=1.3->requests-ntlm>=1.1.0->qiskit-ibm-runtime) (2.22)\n",
            "Requirement already satisfied: setuptools in /usr/local/lib/python3.11/dist-packages (from pbr>=2.0.0->stevedore>=3.0.0->qiskit>=1.1.0->qiskit-aer) (75.1.0)\n"
          ]
        }
      ],
      "source": [
        "!pip install qiskit-aer qiskit-ibm-runtime  # Install the qiskit-aer package and runtime package\n",
        "# Quantum Crop Optimization\n",
        "from qiskit_aer import Aer  # Import Aer from qiskit_aer\n",
        "from qiskit_ibm_runtime import QiskitRuntimeService, Sampler  # Import Sampler for execution\n",
        "from qiskit import QuantumCircuit, transpile, assemble\n",
        "from qiskit.visualization import plot_histogram\n",
        "import matplotlib.pyplot as plt\n",
        "\n",
        "## Step 1: Import Libraries\n",
        "from qiskit_aer import Aer  # Import Aer from qiskit_aer\n",
        "# Replace execute import with Sampler import\n",
        "from qiskit_ibm_runtime import QiskitRuntimeService, Sampler\n",
        "from qiskit import QuantumCircuit, transpile, assemble\n",
        "from qiskit.visualization import plot_histogram\n",
        "import matplotlib.pyplot as plt\n",
        "# Removed redundant import: import matplotlib.pyplot as plt\n",
        "\n",
        "# Example usage with Sampler (replace with your circuit and backend):\n",
        "# service = QiskitRuntimeService()\n",
        "# sampler = Sampler(session=service)\n",
        "# job = sampler.run(circuits=[your_circuit])\n",
        "# result = job.result()\n"
      ]
    },
    {
      "cell_type": "code",
      "source": [
        "# Install pylatexenc before calling qc.draw(output='mpl')\n",
        "!pip install pylatexenc # Install pylatexenc for MatplotlibDrawer\n",
        "\n",
        "# Import necessary libraries\n",
        "import matplotlib.pyplot as plt\n",
        "from qiskit.visualization import plot_histogram, circuit_drawer"
      ],
      "metadata": {
        "colab": {
          "base_uri": "https://localhost:8080/"
        },
        "id": "gzO97vG59sxe",
        "outputId": "bab06052-8226-4850-df5e-b0668a1a78be"
      },
      "execution_count": 13,
      "outputs": [
        {
          "output_type": "stream",
          "name": "stdout",
          "text": [
            "Requirement already satisfied: pylatexenc in /usr/local/lib/python3.11/dist-packages (2.10)\n"
          ]
        }
      ]
    },
    {
      "cell_type": "code",
      "source": [
        "!pip install pylatexenc # Install pylatexenc for MatplotlibDrawer\n",
        "\n",
        "# Import necessary libraries\n",
        "import matplotlib.pyplot as plt\n",
        "from qiskit.visualization import plot_histogram, circuit_drawer\n",
        "\n",
        "# Create a quantum circuit with 2 qubits\n",
        "num_qubits = 2\n",
        "qc = QuantumCircuit(num_qubits)\n",
        "\n",
        "# Apply Hadamard gates to create superposition\n",
        "qc.h(0)\n",
        "qc.h(1)\n",
        "\n",
        "# Define constraints as quantum gates\n",
        "# Example: A gate that ensures at least one crop is chosen\n",
        "qc.cx(0, 1)  # CNOT gate to entangle qubits\n",
        "\n",
        "# Measure the qubits\n",
        "qc.measure_all()\n",
        "\n",
        "# Draw the circuit using the text output to avoid MatplotlibDrawer\n",
        "qc.draw(output='text')\n",
        "# If you still want to use 'mpl' output, make sure pylatexenc is installed and the kernel is restarted.\n",
        "# qc.draw(output='mpl')\n",
        "# plt.show()"
      ],
      "metadata": {
        "colab": {
          "base_uri": "https://localhost:8080/",
          "height": 142
        },
        "id": "3X8KPVp0-SOo",
        "outputId": "c48eb410-1177-474d-c54b-7f6a5cf633e3"
      },
      "execution_count": 17,
      "outputs": [
        {
          "output_type": "stream",
          "name": "stdout",
          "text": [
            "Requirement already satisfied: pylatexenc in /usr/local/lib/python3.11/dist-packages (2.10)\n"
          ]
        },
        {
          "output_type": "execute_result",
          "data": {
            "text/plain": [
              "        ┌───┐      ░ ┌─┐   \n",
              "   q_0: ┤ H ├──■───░─┤M├───\n",
              "        ├───┤┌─┴─┐ ░ └╥┘┌─┐\n",
              "   q_1: ┤ H ├┤ X ├─░──╫─┤M├\n",
              "        └───┘└───┘ ░  ║ └╥┘\n",
              "meas: 2/══════════════╩══╩═\n",
              "                      0  1 "
            ],
            "text/html": [
              "<pre style=\"word-wrap: normal;white-space: pre;background: #fff0;line-height: 1.1;font-family: &quot;Courier New&quot;,Courier,monospace\">        ┌───┐      ░ ┌─┐   \n",
              "   q_0: ┤ H ├──■───░─┤M├───\n",
              "        ├───┤┌─┴─┐ ░ └╥┘┌─┐\n",
              "   q_1: ┤ H ├┤ X ├─░──╫─┤M├\n",
              "        └───┘└───┘ ░  ║ └╥┘\n",
              "meas: 2/══════════════╩══╩═\n",
              "                      0  1 </pre>"
            ]
          },
          "metadata": {},
          "execution_count": 17
        }
      ]
    },
    {
      "cell_type": "code",
      "source": [
        "from qiskit_aer import Aer\n",
        "from qiskit import QuantumCircuit, transpile\n",
        "from qiskit.visualization import plot_histogram\n",
        "import matplotlib.pyplot as plt\n",
        "\n",
        "# Use the QASM simulator\n",
        "simulator = Aer.get_backend('qasm_simulator')\n",
        "\n",
        "# Create a quantum circuit with 2 qubits\n",
        "num_qubits = 2\n",
        "qc = QuantumCircuit(num_qubits)\n",
        "\n",
        "# Apply Hadamard gates to create superposition\n",
        "qc.h(0)\n",
        "qc.h(1)\n",
        "\n",
        "# Define constraints as quantum gates\n",
        "# Example: A gate that ensures at least one crop is chosen\n",
        "qc.cx(0, 1)  # CNOT gate to entangle qubits\n",
        "\n",
        "# Measure the qubits\n",
        "qc.measure_all()\n",
        "\n",
        "# Compile and run the circuit\n",
        "compiled_circuit = transpile(qc, simulator)\n",
        "# Use simulator.run directly\n",
        "job = simulator.run(compiled_circuit, shots=1000)\n",
        "\n",
        "# Get the results\n",
        "result = job.result()\n",
        "counts = result.get_counts(qc)\n",
        "\n",
        "# Plot the results\n",
        "plot_histogram(counts)\n",
        "plt.show()"
      ],
      "metadata": {
        "id": "Kbo34nRD-na5"
      },
      "execution_count": 19,
      "outputs": []
    },
    {
      "cell_type": "code",
      "source": [
        "# Print the results\n",
        "print(\"Crop Combination Probabilities:\")\n",
        "for combination, probability in counts.items():\n",
        "    crop = \"\"\n",
        "    if combination == \"00\":\n",
        "        crop = \"Cabbages\"\n",
        "    elif combination == \"01\":\n",
        "        crop = \"Tomatoes\"\n",
        "    elif combination == \"10\":\n",
        "        crop = \"Green Peppers\"\n",
        "    elif combination == \"11\":\n",
        "        crop = \"Marigolds\"\n",
        "    print(f\"{combination}: {crop} - {probability} counts\")\n",
        "\n",
        "# Determine the optimal crop combination\n",
        "optimal_combination = max(counts, key=counts.get)\n",
        "optimal_crop = \"\"\n",
        "if optimal_combination == \"00\":\n",
        "    optimal_crop = \"Cabbages\"\n",
        "elif optimal_combination == \"01\":\n",
        "    optimal_crop = \"Tomatoes\"\n",
        "elif optimal_combination == \"10\":\n",
        "    optimal_crop = \"Green Peppers\"\n",
        "elif optimal_combination == \"11\":\n",
        "    optimal_crop = \"Marigolds\"\n",
        "\n",
        "print(f\"\\nOptimal Crop Combination: {optimal_combination} ({optimal_crop})\")"
      ],
      "metadata": {
        "colab": {
          "base_uri": "https://localhost:8080/"
        },
        "id": "K9VOmZSO_f_Q",
        "outputId": "6037c14e-9668-4294-ca5d-717072a14fd3"
      },
      "execution_count": 20,
      "outputs": [
        {
          "output_type": "stream",
          "name": "stdout",
          "text": [
            "Crop Combination Probabilities:\n",
            "01: Tomatoes - 247 counts\n",
            "00: Cabbages - 240 counts\n",
            "10: Green Peppers - 262 counts\n",
            "11: Marigolds - 251 counts\n",
            "\n",
            "Optimal Crop Combination: 10 (Green Peppers)\n"
          ]
        }
      ]
    }
  ]
}